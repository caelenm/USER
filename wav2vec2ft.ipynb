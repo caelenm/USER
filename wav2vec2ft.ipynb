{
  "cells": [
    {
      "cell_type": "code",
      "execution_count": 108,
      "metadata": {
        "id": "vZGkYqoM8tq7"
      },
      "outputs": [],
      "source": [
        "from transformers import Wav2Vec2Processor, Wav2Vec2Model\n",
        "import librosa\n",
        "import torch\n",
        "import pandas as pd\n",
        "import numpy as np\n",
        "import os\n",
        "import random\n",
        "import pickle\n",
        "import torch.nn as nn\n",
        "import torch.nn.functional as F\n",
        "import torch.optim as optim\n",
        "from torch.utils.data import DataLoader, TensorDataset\n",
        "from sklearn.metrics import mean_squared_error, mean_absolute_error, r2_score"
      ]
    },
    {
      "cell_type": "code",
      "execution_count": 109,
      "metadata": {
        "id": "-guCYDAe9EBR"
      },
      "outputs": [],
      "source": [
        "#dataset\n",
        "unseen_emotion = \"sad\"\n",
        "folder = r\"/content/drive/MyDrive/Audio_Speech_Actors_01-24/Actor_01\"\n",
        "path = r\"/content/drive/MyDrive/Audio_Speech_Actors_01-24/Actor_01\"\n",
        "# where emotion word embeddings are stored\n",
        "fasttext_folder='/content/drive/MyDrive/emotion_vectors'\n",
        "#where to save the model\n",
        "model_save = 'advanced_embedding_mapper.pth'\n",
        "#where the pickle is saved\n",
        "pickle_path = '/content/drive/MyDrive/USER/fileTensorDict.pckl'"
      ]
    },
    {
      "cell_type": "code",
      "execution_count": 110,
      "metadata": {
        "id": "afP114cg84E9"
      },
      "outputs": [],
      "source": [
        "def get_emotion_vector(filename):\n",
        "    parts = filename.split('-')\n",
        "    third_number = parts[2]\n",
        "\n",
        "    emotion_vector_label = None\n",
        "    if third_number == '05':\n",
        "        emotion_vector_label = 'angry'\n",
        "    elif third_number == '02':\n",
        "        emotion_vector_label = 'calm'\n",
        "    elif third_number == '07':\n",
        "        emotion_vector_label = 'disgust'\n",
        "    elif third_number == '06':\n",
        "        emotion_vector_label = 'fearful'\n",
        "    elif third_number == '03':\n",
        "        emotion_vector_label = 'happy'\n",
        "    elif third_number == '01':\n",
        "        emotion_vector_label = 'neutral'\n",
        "    elif third_number == '04':\n",
        "        emotion_vector_label = 'sad'\n",
        "    elif third_number == '08':\n",
        "        emotion_vector_label = 'surprised'\n",
        "\n",
        "    return emotion_vector_label"
      ]
    },
    {
      "cell_type": "code",
      "source": [
        "def load_emotion_vectors(folder):\n",
        "    emotion_vectors = {}\n",
        "    for filename in os.listdir(folder):\n",
        "        if filename.endswith('.txt'):\n",
        "            emotion_name = filename.split('.')[0]\n",
        "            filepath = os.path.join(folder, filename)\n",
        "            with open(filepath, 'r') as file:\n",
        "                vector = [float(line.strip()) for line in file]\n",
        "                emotion_vectors[emotion_name] = torch.tensor(vector, dtype=torch.float32)\n",
        "    return emotion_vectors"
      ],
      "metadata": {
        "id": "keDBeSEvVfNo"
      },
      "execution_count": 111,
      "outputs": []
    },
    {
      "cell_type": "code",
      "execution_count": 112,
      "metadata": {
        "id": "lsbj_J2r9Fg8"
      },
      "outputs": [],
      "source": [
        "def addToDict(folder):\n",
        "  emo_dict = {}\n",
        "  for file in os.listdir(folder):\n",
        "      emo_dict[file] = get_emotion_vector(file)\n",
        "  str_emo_dict = str(emo_dict)\n",
        "  with open(\"vectors.txt\", \"a\") as vec:\n",
        "    vec.write(str_emo_dict)\n",
        "\n",
        "for x in os.listdir(folder):\n",
        "  addToDict(folder)"
      ]
    },
    {
      "cell_type": "code",
      "execution_count": 113,
      "metadata": {
        "id": "39EHaFxC9P50",
        "colab": {
          "base_uri": "https://localhost:8080/"
        },
        "outputId": "7e4e9c71-1a9b-4d74-db9e-966ccc7109a1"
      },
      "outputs": [
        {
          "output_type": "stream",
          "name": "stderr",
          "text": [
            "Some weights of Wav2Vec2Model were not initialized from the model checkpoint at facebook/wav2vec2-base-960h and are newly initialized: ['wav2vec2.encoder.pos_conv_embed.conv.parametrizations.weight.original0', 'wav2vec2.encoder.pos_conv_embed.conv.parametrizations.weight.original1', 'wav2vec2.masked_spec_embed']\n",
            "You should probably TRAIN this model on a down-stream task to be able to use it for predictions and inference.\n"
          ]
        }
      ],
      "source": [
        "processor = Wav2Vec2Processor.from_pretrained(\"facebook/wav2vec2-base-960h\")\n",
        "model = Wav2Vec2Model.from_pretrained(\"facebook/wav2vec2-base-960h\")\n"
      ]
    },
    {
      "cell_type": "code",
      "execution_count": 114,
      "metadata": {
        "id": "Aum2q6rN9X3m"
      },
      "outputs": [],
      "source": [
        "def get_vector_from_audio(path):\n",
        "  audio_input, sampling_rate = librosa.load(path, sr=16000)\n",
        "  inputs = processor(audio_input, sampling_rate=16000, return_tensors=\"pt\", padding=True)\n",
        "  with torch.no_grad():\n",
        "    outputs = model(**inputs)\n",
        "\n",
        "  hidden_states = outputs.last_hidden_state\n",
        "\n",
        "  vector_rep = torch.mean(hidden_states, dim=1)\n",
        "  return vector_rep\n",
        "\n"
      ]
    },
    {
      "cell_type": "code",
      "execution_count": 115,
      "metadata": {
        "id": "ydppCfjl9lgI"
      },
      "outputs": [],
      "source": [
        "def get_embeddings():\n",
        "  filename_vector_dict = {}\n",
        "  # path = r\"/content/drive/MyDrive/Audio_Speech_Actors_01-24/Actor_01\"\n",
        "  for f in os.listdir(path):\n",
        "    file_path = os.path.join(path,f)\n",
        "    emov = get_vector_from_audio(file_path)\n",
        "    filename_vector_dict[f] = emov\n",
        "  return filename_vector_dict"
      ]
    },
    {
      "cell_type": "code",
      "execution_count": 116,
      "metadata": {
        "id": "CKsVEpCo9qIm"
      },
      "outputs": [],
      "source": [
        "def load_fasttext_embedding(emotion_label, fasttext_folder):\n",
        "  filepath = os.path.join(fasttext_folder, f'{emotion_label}.txt')\n",
        "  if not os.path.exists(filepath):\n",
        "      raise FileNotFoundError(f\"Embedding file for {emotion_label} not found in {folder}\")\n",
        "\n",
        "  embedding = []\n",
        "  with open(filepath, 'r') as file:\n",
        "      for line in file:\n",
        "          embedding.append(float(line.strip()))\n",
        "\n",
        "  return embedding\n"
      ]
    },
    {
      "cell_type": "code",
      "execution_count": 117,
      "metadata": {
        "id": "ILxRzWeT9uqc"
      },
      "outputs": [],
      "source": [
        "def map_fasttext_to_wav2vec(wav2vec_dict, fasttext_folder='emotion_vectors'):\n",
        "    fasttext_vector_dict = {}\n",
        "    for filename, wav2vec_embedding in wav2vec_dict.items():\n",
        "        emotion_label = get_emotion_vector(filename)\n",
        "        fasttext_embedding = load_fasttext_embedding(emotion_label, fasttext_folder)\n",
        "        fasttext_embedding = torch.tensor(fasttext_embedding, dtype=torch.float32)\n",
        "        fasttext_vector_dict[filename] = (wav2vec_embedding, fasttext_embedding)\n",
        "    return fasttext_vector_dict"
      ]
    },
    {
      "cell_type": "code",
      "execution_count": 118,
      "metadata": {
        "id": "iVgDqSIQ9xRg"
      },
      "outputs": [],
      "source": [
        "# filename_vector_dict = get_embeddings()\n",
        "# vector_map = map_fasttext_to_wav2vec(filename_vector_dict,fasttext_folder)"
      ]
    },
    {
      "cell_type": "code",
      "execution_count": 119,
      "metadata": {
        "colab": {
          "base_uri": "https://localhost:8080/"
        },
        "id": "QC1_Hl0e_c1Z",
        "outputId": "be23d290-0c0f-4a3c-a1f1-36daef2d33e4"
      },
      "outputs": [
        {
          "output_type": "stream",
          "name": "stdout",
          "text": [
            "vector_map loaded from pickle file.\n"
          ]
        }
      ],
      "source": [
        "def check_or_create_vector_map(pickle_path, fasttext_folder):\n",
        "    if os.path.exists(pickle_path):\n",
        "        with open(pickle_path, 'rb') as f:\n",
        "            data = pickle.load(f)\n",
        "            if 'vector_map' in data:\n",
        "                print(\"vector_map loaded from pickle file.\")\n",
        "                return data['vector_map']\n",
        "\n",
        "    # If the file does not exist or vector_map is not in the file, create it\n",
        "    filename_vector_dict = get_embeddings()\n",
        "    vector_map = map_fasttext_to_wav2vec(filename_vector_dict, fasttext_folder)\n",
        "\n",
        "    # Save the vector_map to the pickle file\n",
        "    with open(pickle_path, 'wb') as f:\n",
        "        pickle.dump({'vector_map': vector_map}, f)\n",
        "    print(\"vector_map created and saved to pickle file.\")\n",
        "\n",
        "    return vector_map\n",
        "\n",
        "vector_map = check_or_create_vector_map(pickle_path, fasttext_folder)"
      ]
    },
    {
      "cell_type": "code",
      "execution_count": 120,
      "metadata": {
        "colab": {
          "base_uri": "https://localhost:8080/"
        },
        "id": "GZJVuNZrGTn9",
        "outputId": "e85dfdf1-582d-4595-c7f1-532103729344"
      },
      "outputs": [
        {
          "output_type": "stream",
          "name": "stdout",
          "text": [
            "Training samples: 1152\n",
            "Test samples: 288\n",
            "Unseen emotion in training set: False\n",
            "Unseen emotion in test set: True\n",
            "Unseen emotion: sad\n"
          ]
        }
      ],
      "source": [
        "def split_sets(dictionary, unseen_emotion, train_ratio=0.8, seed=42):\n",
        "    # Set the random seed for reproducibility\n",
        "    random.seed(seed)\n",
        "\n",
        "    # Separate keys for the unseen emotion and other emotions\n",
        "    unseen_keys = [key for key in dictionary.keys() if get_emotion_vector(key) == unseen_emotion]\n",
        "    filtered_keys = [key for key in dictionary.keys() if key not in unseen_keys]\n",
        "\n",
        "    # Shuffle the filtered keys\n",
        "    random.shuffle(filtered_keys)\n",
        "\n",
        "    # Calculate the number of training samples needed from the filtered data\n",
        "    total_samples = len(dictionary)\n",
        "    num_train_samples = int(total_samples * train_ratio)\n",
        "    num_test_samples = total_samples - num_train_samples\n",
        "\n",
        "    # Adjust the number of test samples from the filtered data\n",
        "    num_test_samples_from_filtered = num_test_samples - len(unseen_keys)\n",
        "\n",
        "    # Ensure there are enough samples in the filtered data\n",
        "    if num_test_samples_from_filtered < 0:\n",
        "        raise ValueError(\"Not enough samples in the filtered data to maintain the overall split ratio.\")\n",
        "\n",
        "    # Split the filtered keys into training and test sets\n",
        "    train_keys = filtered_keys[:num_train_samples]\n",
        "    test_keys = filtered_keys[num_train_samples:num_train_samples + num_test_samples_from_filtered]\n",
        "\n",
        "    # Create training and test dictionaries from the filtered data\n",
        "    train_dict = {key: dictionary[key] for key in train_keys}\n",
        "    test_dict = {key: dictionary[key] for key in test_keys}\n",
        "\n",
        "    # Add the unseen emotion samples to the test dictionary\n",
        "    test_dict.update({key: dictionary[key] for key in unseen_keys})\n",
        "\n",
        "    # Check for overlaps\n",
        "    train_keys_set = set(train_dict.keys())\n",
        "    test_keys_set = set(test_dict.keys())\n",
        "    overlapping_keys = train_keys_set & test_keys_set\n",
        "    if overlapping_keys:\n",
        "        raise ValueError(f\"Overlapping filenames found between training and test sets: {overlapping_keys}\")\n",
        "\n",
        "\n",
        "    return train_dict, test_dict\n",
        "\n",
        "# Example usage\n",
        "train_dict, test_dict = split_sets(vector_map, unseen_emotion)\n",
        "\n",
        "# Check the counts\n",
        "print(\"Training samples:\", len(train_dict))\n",
        "print(\"Test samples:\", len(test_dict))\n",
        "\n",
        "# Ensure no unseen emotion samples in the training set\n",
        "print(\"Unseen emotion in training set:\", any(get_emotion_vector(key) == unseen_emotion for key in train_dict.keys()))\n",
        "print(\"Unseen emotion in test set:\", any(get_emotion_vector(key) == unseen_emotion for key in test_dict.keys()))\n",
        "print(\"Unseen emotion:\", unseen_emotion)\n"
      ]
    },
    {
      "cell_type": "code",
      "execution_count": 121,
      "metadata": {
        "id": "9t1lGNK6-bq8"
      },
      "outputs": [],
      "source": [
        "class AdvancedEmbeddingMapper(nn.Module):\n",
        "    def __init__(self):\n",
        "        super(AdvancedEmbeddingMapper, self).__init__()\n",
        "        self.fc1 = nn.Linear(768, 512)\n",
        "        self.bn1 = nn.BatchNorm1d(512)\n",
        "        self.fc2 = nn.Linear(512, 256)\n",
        "        self.bn2 = nn.BatchNorm1d(256)\n",
        "        self.fc3 = nn.Linear(256, 128)\n",
        "        self.bn3 = nn.BatchNorm1d(128)\n",
        "        self.fc4 = nn.Linear(128, 300)\n",
        "        self.dropout = nn.Dropout(0.3)  # Increase dropout rate for better regularization\n",
        "        self.relu = nn.ReLU()\n",
        "\n",
        "    def forward(self, x):\n",
        "        x = self.fc1(x)\n",
        "        x = x.transpose(1, 2)\n",
        "        x = self.bn1(x)\n",
        "        x = x.transpose(1, 2)\n",
        "        x = self.relu(x)\n",
        "        x = self.dropout(x)\n",
        "\n",
        "        x = self.fc2(x)\n",
        "        x = x.transpose(1, 2)\n",
        "        x = self.bn2(x)\n",
        "        x = x.transpose(1, 2)\n",
        "        x = self.relu(x)\n",
        "        x = self.dropout(x)\n",
        "\n",
        "        x = self.fc3(x)\n",
        "        x = x.transpose(1, 2)\n",
        "        x = self.bn3(x)\n",
        "        x = x.transpose(1, 2)\n",
        "        x = self.relu(x)\n",
        "        x = self.dropout(x)\n",
        "\n",
        "        x = self.fc4(x)\n",
        "        return x"
      ]
    },
    {
      "cell_type": "code",
      "execution_count": 122,
      "metadata": {
        "id": "MBy2OlbuZ1q0"
      },
      "outputs": [],
      "source": [
        "class CNNEmbeddingMapper(nn.Module):\n",
        "\n",
        "  def __init__(self):\n",
        "    super(CNNEmbeddingMapper, self).__init__()\n",
        "    self.conv1 = nn.Conv1d(in_channels=768, out_channels=512, kernel_size=3, padding=1)\n",
        "    self.bn1 = nn.BatchNorm1d(512)\n",
        "    self.conv2 = nn.Conv1d(in_channels=512, out_channels=256, kernel_size=3, padding=1)\n",
        "    self.bn2 = nn.BatchNorm1d(256)\n",
        "    self.conv3 = nn.Conv1d(in_channels=256, out_channels=128, kernel_size=3, padding=1)\n",
        "    self.bn3 = nn.BatchNorm1d(128)\n",
        "    self.conv4 = nn.Conv1d(in_channels=128, out_channels=300, kernel_size=3, padding=1)\n",
        "    self.dropout = nn.Dropout(0.2)\n",
        "    self.relu = nn.ReLU()\n",
        "\n",
        "\n",
        "  def forward(self, x):\n",
        "\n",
        "    x = x.transpose(1, 2)\n",
        "    x = self.conv1(x)\n",
        "    x = self.bn1(x)\n",
        "    x = self.relu(x)\n",
        "    x = self.dropout(x)\n",
        "\n",
        "    x = self.conv2(x)\n",
        "    x = self.bn2(x)\n",
        "    x = self.relu(x)\n",
        "    x = self.dropout(x)\n",
        "\n",
        "    x = self.conv3(x)\n",
        "    x = self.bn3(x)\n",
        "    x = self.relu(x)\n",
        "    x = self.dropout(x)\n",
        "\n",
        "    x = self.conv4(x)\n",
        "    x = x.transpose(1, 2)\n",
        "    return x"
      ]
    },
    {
      "cell_type": "code",
      "source": [
        "# class RNNEmbeddingMapper(nn.module):\n",
        "#   def __init__(self):"
      ],
      "metadata": {
        "id": "Iiuftd9VQ83m"
      },
      "execution_count": 123,
      "outputs": []
    },
    {
      "cell_type": "code",
      "execution_count": 124,
      "metadata": {
        "id": "40kfUBl--jN-"
      },
      "outputs": [],
      "source": [
        "def create_dataloader(data_dict, batch_size=32, shuffle=True):\n",
        "    wav2vec_tensors = []\n",
        "    fasttext_tensors = []\n",
        "\n",
        "    for key in data_dict:\n",
        "        wav2vec_tensors.append(data_dict[key][0])\n",
        "        fasttext_tensors.append(data_dict[key][1])\n",
        "\n",
        "    X = torch.stack(wav2vec_tensors)\n",
        "    Y = torch.stack(fasttext_tensors)\n",
        "\n",
        "    dataset = TensorDataset(X, Y)\n",
        "    dataloader = DataLoader(dataset, batch_size=batch_size, shuffle=shuffle)\n",
        "\n",
        "    return dataloader\n",
        "\n",
        "train_dataloader = create_dataloader(train_dict)\n",
        "test_dataloader = create_dataloader(test_dict, shuffle=False)"
      ]
    },
    {
      "cell_type": "code",
      "source": [
        "def create_dataloader_cnn(data_dict, batch_size=32, shuffle=True):\n",
        "    wav2vec_tensors = []\n",
        "    fasttext_tensors = []\n",
        "\n",
        "    for key in data_dict:\n",
        "        wav2vec_tensors.append(data_dict[key][0])\n",
        "        fasttext_tensors.append(data_dict[key][1])\n",
        "\n",
        "    X = torch.stack(wav2vec_tensors)\n",
        "    Y = torch.stack(fasttext_tensors)\n",
        "\n",
        "    dataset = TensorDataset(X, Y)\n",
        "    dataloader = DataLoader(dataset, batch_size=batch_size, shuffle=shuffle)\n",
        "\n",
        "    return dataloader\n",
        "\n",
        "train_dataloader_cnn = create_dataloader_cnn(train_dict)\n",
        "test_dataloader_cnn = create_dataloader_cnn(test_dict, shuffle=False)"
      ],
      "metadata": {
        "id": "qbEIi4HbGlsJ"
      },
      "execution_count": 125,
      "outputs": []
    },
    {
      "cell_type": "code",
      "execution_count": 126,
      "metadata": {
        "colab": {
          "base_uri": "https://localhost:8080/"
        },
        "id": "ATCYpjY9-nZQ",
        "outputId": "c2b02b70-261b-4d5c-dc66-9fd43b29de44"
      },
      "outputs": [
        {
          "output_type": "stream",
          "name": "stdout",
          "text": [
            "Epoch [50/500], Loss: 0.0028\n",
            "Epoch [100/500], Loss: 0.0028\n",
            "Epoch [150/500], Loss: 0.0028\n",
            "Epoch [200/500], Loss: 0.0028\n",
            "Epoch [250/500], Loss: 0.0028\n",
            "Epoch [300/500], Loss: 0.0028\n",
            "Epoch [350/500], Loss: 0.0028\n",
            "Epoch [400/500], Loss: 0.0028\n",
            "Epoch [450/500], Loss: 0.0028\n",
            "Epoch [500/500], Loss: 0.0028\n"
          ]
        }
      ],
      "source": [
        "model = AdvancedEmbeddingMapper()\n",
        "#CNNmodel = CNNEmbeddingMapper()\n",
        "\n",
        "# Define loss function and optimizer\n",
        "criterion = nn.MSELoss()\n",
        "optimizer = optim.Adam(model.parameters(), lr=0.001)\n",
        "\n",
        "\n",
        "def train_model(model, train_dataloader, num_epochs=500):\n",
        "    for epoch in range(num_epochs):\n",
        "        model.train()\n",
        "        epoch_loss = 0\n",
        "        for batch_x, batch_y in train_dataloader:\n",
        "            optimizer.zero_grad()\n",
        "            outputs = model(batch_x)\n",
        "            loss = criterion(outputs, batch_y)\n",
        "            loss.backward()\n",
        "            optimizer.step()\n",
        "            epoch_loss += loss.item()\n",
        "\n",
        "        if (epoch + 1) % 50 == 0:\n",
        "            print(f'Epoch [{epoch + 1}/{num_epochs}], Loss: {epoch_loss / len(train_dataloader):.4f}')\n",
        "            #evaluate_model_more(model, test_dataloader)\n",
        "\n",
        "train_model(model, train_dataloader)\n",
        "#train_model(CNNmodel, train_dataloader_cnn)"
      ]
    },
    {
      "cell_type": "code",
      "execution_count": 127,
      "metadata": {
        "colab": {
          "base_uri": "https://localhost:8080/"
        },
        "id": "ajMf-OlnAeTH",
        "outputId": "63b97bb9-cbaa-4985-f093-09ae979ee6b0"
      },
      "outputs": [
        {
          "output_type": "stream",
          "name": "stdout",
          "text": [
            "Test Loss: 0.0087\n",
            "Mean Squared Error (MSE): 0.0087\n",
            "Mean Absolute Error (MAE): 0.0690\n",
            "R-squared (R²): -1.0958\n"
          ]
        }
      ],
      "source": [
        "def evaluate_model_more(model, test_dataloader):\n",
        "    model.eval()\n",
        "    test_loss = 0\n",
        "    all_targets = []\n",
        "    all_predictions = []\n",
        "\n",
        "    with torch.no_grad():\n",
        "        for batch_x, batch_y in test_dataloader:\n",
        "            outputs = model(batch_x).squeeze(1)  # Squeeze to remove singleton dimension\n",
        "            loss = criterion(outputs, batch_y)\n",
        "            test_loss += loss.item()\n",
        "\n",
        "            all_targets.append(batch_y)\n",
        "            all_predictions.append(outputs)\n",
        "\n",
        "    # Compute average test loss\n",
        "    test_loss /= len(test_dataloader)\n",
        "\n",
        "    # Concatenate all targets and predictions\n",
        "    all_targets = torch.cat(all_targets).cpu().numpy()\n",
        "    all_predictions = torch.cat(all_predictions).cpu().numpy()\n",
        "\n",
        "    # Compute additional metrics\n",
        "    mse = mean_squared_error(all_targets, all_predictions)\n",
        "    mae = mean_absolute_error(all_targets, all_predictions)\n",
        "    r2 = r2_score(all_targets, all_predictions)\n",
        "\n",
        "    print(f'Test Loss: {test_loss:.4f}')\n",
        "    print(f'Mean Squared Error (MSE): {mse:.4f}')\n",
        "    print(f'Mean Absolute Error (MAE): {mae:.4f}')\n",
        "    print(f'R-squared (R²): {r2:.4f}')\n",
        "\n",
        "evaluate_model_more(model, test_dataloader)"
      ]
    },
    {
      "cell_type": "code",
      "execution_count": 128,
      "metadata": {
        "id": "L8sq3esgLBIW"
      },
      "outputs": [],
      "source": [
        "def cosine_similarity(model_output, target):\n",
        "  cos = nn.CosineSimilarity(dim=0, eps=1e-6)\n",
        "  output = cos(model_output, target)\n",
        "\n",
        "  return output\n",
        "\n",
        "# def evaluate_cosine():\n",
        "\n",
        "#   model = torch.tensor(model(batch_x).squeeze(1))\n",
        "#   target = torch.tensor(load_fasttext_embedding(unseen_emotion, fasttext_folder))\n",
        "\n",
        "# cosine_similarity(model, target)"
      ]
    },
    {
      "cell_type": "code",
      "execution_count": 129,
      "metadata": {
        "colab": {
          "base_uri": "https://localhost:8080/"
        },
        "id": "8D2XbT0sZBgj",
        "outputId": "ec1436f9-709c-4653-a877-dccd3110f2a1"
      },
      "outputs": [
        {
          "output_type": "stream",
          "name": "stdout",
          "text": [
            "Average Cosine Similarity: 0.3066\n"
          ]
        }
      ],
      "source": [
        "def evaluate_model_cosine(model, test_dataloader):\n",
        "    model.eval()\n",
        "    all_cosine_similarities = []\n",
        "\n",
        "    with torch.no_grad():\n",
        "        for batch_x, batch_y in test_dataloader:\n",
        "            outputs = model(batch_x)  # Pass batch_x to the model\n",
        "            cosine_sim = cosine_similarity(outputs, batch_y)\n",
        "            all_cosine_similarities.extend(cosine_sim.cpu().numpy().tolist())  # Collect cosine similarities as scalar floats\n",
        "\n",
        "    # Compute average cosine similarity\n",
        "    avg_cosine_similarity = np.mean(all_cosine_similarities)\n",
        "\n",
        "    print(f'Average Cosine Similarity: {avg_cosine_similarity:.4f}')\n",
        "\n",
        "# Example usage\n",
        "# Assuming you have the model and dataloaders defined\n",
        "evaluate_model_cosine(model, test_dataloader)"
      ]
    },
    {
      "cell_type": "code",
      "source": [
        "def find_most_similar_emotion(predicted_vector, emotion_vectors):\n",
        "    similarities = []\n",
        "    emotions = []\n",
        "\n",
        "    for emotion, vector in emotion_vectors.items():\n",
        "        similarity = F.cosine_similarity(predicted_vector, vector, dim=0)\n",
        "        mean_similarity = similarity.mean().item()  # Compute the mean similarity\n",
        "        similarities.append(mean_similarity)\n",
        "        emotions.append(emotion)\n",
        "\n",
        "    # Convert similarities to numpy array and use argmax to find the highest similarity\n",
        "    similarities = np.array(similarities)\n",
        "    max_index = np.argmax(similarities)\n",
        "\n",
        "    most_similar_emotion = emotions[max_index]\n",
        "    max_similarity = similarities[max_index]\n",
        "\n",
        "    return most_similar_emotion, max_similarity"
      ],
      "metadata": {
        "id": "5LfcPchtWOvv"
      },
      "execution_count": 130,
      "outputs": []
    },
    {
      "cell_type": "code",
      "source": [
        "def calculate_cosine_similarity(model, test_dataloader, test_dict, emotion_vectors):\n",
        "    model.eval()\n",
        "    results = {}\n",
        "    cosine_similarity_dict = {}\n",
        "    correct_predictions = 0\n",
        "\n",
        "    with torch.no_grad():\n",
        "        indices_list = list(test_dataloader.batch_sampler)\n",
        "\n",
        "        for batch_idx, (batch_x, batch_y) in enumerate(test_dataloader):\n",
        "            outputs = model(batch_x)  # Pass batch_x to the model\n",
        "            batch_indices = indices_list[batch_idx]  # Get the corresponding indices for the current batch\n",
        "\n",
        "            for i, output in enumerate(outputs):\n",
        "                global_index = batch_indices[i]\n",
        "                filename = list(test_dict.keys())[global_index]\n",
        "                cosine_sim = F.cosine_similarity(output, batch_y[i], dim=0).mean().item()  # Calculate mean cosine similarity for the current sample\n",
        "                predicted_emotion, similarity_score = find_most_similar_emotion(output, emotion_vectors)\n",
        "                actual_emotion = get_emotion_vector(filename)\n",
        "\n",
        "                results[filename] = {\n",
        "                    'cosine_similarity': cosine_sim,\n",
        "                    'predicted_emotion': predicted_emotion,\n",
        "                    'actual_emotion': actual_emotion\n",
        "                }\n",
        "                if predicted_emotion == actual_emotion:\n",
        "                                correct_predictions += 1\n",
        "    print(f'Number of correct labels: {correct_predictions}')\n",
        "    return results\n",
        "\n",
        "emotion_vectors = load_emotion_vectors(fasttext_folder)\n",
        "results = calculate_cosine_similarity(model, test_dataloader, test_dict, emotion_vectors)\n",
        "\n",
        "# Print the results\n",
        "for filename, result in results.items():\n",
        "    print(f'{filename}: Cosine Similarity: {result[\"cosine_similarity\"]}, Predicted Emotion: {result[\"predicted_emotion\"]}, Actual Emotion: {result[\"actual_emotion\"]}')\n"
      ],
      "metadata": {
        "colab": {
          "base_uri": "https://localhost:8080/"
        },
        "id": "wP4wAnt6CGDT",
        "outputId": "3864db45-9285-4319-f070-ba4011d08564"
      },
      "execution_count": 131,
      "outputs": [
        {
          "output_type": "stream",
          "name": "stdout",
          "text": [
            "Number of correct labels: 16\n",
            "03-01-07-01-01-01-21.wav: Cosine Similarity: 0.41333332657814026, Predicted Emotion: angry, Actual Emotion: disgust\n",
            "03-01-07-02-02-02-01.wav: Cosine Similarity: 0.41333332657814026, Predicted Emotion: angry, Actual Emotion: disgust\n",
            "03-01-05-01-02-02-06.wav: Cosine Similarity: 0.6133333444595337, Predicted Emotion: angry, Actual Emotion: angry\n",
            "03-01-06-02-02-02-19.wav: Cosine Similarity: 0.4933333396911621, Predicted Emotion: angry, Actual Emotion: fearful\n",
            "03-01-01-01-02-02-12.wav: Cosine Similarity: 0.23999999463558197, Predicted Emotion: angry, Actual Emotion: neutral\n",
            "03-01-06-01-01-01-14.wav: Cosine Similarity: 0.4933333396911621, Predicted Emotion: angry, Actual Emotion: fearful\n",
            "03-01-07-01-01-01-10.wav: Cosine Similarity: 0.41333332657814026, Predicted Emotion: angry, Actual Emotion: disgust\n",
            "03-01-03-01-02-02-15.wav: Cosine Similarity: 0.3733333349227905, Predicted Emotion: angry, Actual Emotion: happy\n",
            "03-01-05-01-02-01-05.wav: Cosine Similarity: 0.6133333444595337, Predicted Emotion: angry, Actual Emotion: angry\n",
            "03-01-03-02-02-02-15.wav: Cosine Similarity: 0.3733333349227905, Predicted Emotion: angry, Actual Emotion: happy\n",
            "03-01-05-01-02-02-16.wav: Cosine Similarity: 0.6133333444595337, Predicted Emotion: angry, Actual Emotion: angry\n",
            "03-01-05-02-01-02-06.wav: Cosine Similarity: 0.6133333444595337, Predicted Emotion: angry, Actual Emotion: angry\n",
            "03-01-08-02-02-01-14.wav: Cosine Similarity: 0.30666667222976685, Predicted Emotion: angry, Actual Emotion: surprised\n",
            "03-01-05-01-02-02-05.wav: Cosine Similarity: 0.6133333444595337, Predicted Emotion: angry, Actual Emotion: angry\n",
            "03-01-06-02-02-01-01.wav: Cosine Similarity: 0.4933333396911621, Predicted Emotion: angry, Actual Emotion: fearful\n",
            "03-01-01-01-02-01-21.wav: Cosine Similarity: 0.23999999463558197, Predicted Emotion: angry, Actual Emotion: neutral\n",
            "03-01-02-01-01-02-16.wav: Cosine Similarity: 0.5533333420753479, Predicted Emotion: angry, Actual Emotion: calm\n",
            "03-01-07-02-02-01-05.wav: Cosine Similarity: 0.41333332657814026, Predicted Emotion: angry, Actual Emotion: disgust\n",
            "03-01-06-02-01-01-15.wav: Cosine Similarity: 0.4933333396911621, Predicted Emotion: angry, Actual Emotion: fearful\n",
            "03-01-08-02-02-01-03.wav: Cosine Similarity: 0.30666667222976685, Predicted Emotion: angry, Actual Emotion: surprised\n",
            "03-01-05-02-02-02-06.wav: Cosine Similarity: 0.6133333444595337, Predicted Emotion: angry, Actual Emotion: angry\n",
            "03-01-08-01-02-01-09.wav: Cosine Similarity: 0.30666667222976685, Predicted Emotion: angry, Actual Emotion: surprised\n",
            "03-01-02-02-02-02-12.wav: Cosine Similarity: 0.5533333420753479, Predicted Emotion: angry, Actual Emotion: calm\n",
            "03-01-06-01-02-01-23.wav: Cosine Similarity: 0.4933333396911621, Predicted Emotion: angry, Actual Emotion: fearful\n",
            "03-01-08-01-01-01-01.wav: Cosine Similarity: 0.30666667222976685, Predicted Emotion: angry, Actual Emotion: surprised\n",
            "03-01-02-01-02-02-03.wav: Cosine Similarity: 0.5533333420753479, Predicted Emotion: angry, Actual Emotion: calm\n",
            "03-01-07-01-02-01-23.wav: Cosine Similarity: 0.41333332657814026, Predicted Emotion: angry, Actual Emotion: disgust\n",
            "03-01-07-02-01-02-16.wav: Cosine Similarity: 0.41333332657814026, Predicted Emotion: angry, Actual Emotion: disgust\n",
            "03-01-06-02-01-01-06.wav: Cosine Similarity: 0.4933333396911621, Predicted Emotion: angry, Actual Emotion: fearful\n",
            "03-01-01-01-01-01-15.wav: Cosine Similarity: 0.23999999463558197, Predicted Emotion: angry, Actual Emotion: neutral\n",
            "03-01-08-02-01-02-11.wav: Cosine Similarity: 0.30666667222976685, Predicted Emotion: angry, Actual Emotion: surprised\n",
            "03-01-05-02-02-01-09.wav: Cosine Similarity: 0.6133333444595337, Predicted Emotion: angry, Actual Emotion: angry\n",
            "03-01-06-01-01-02-23.wav: Cosine Similarity: 0.4933333396911621, Predicted Emotion: angry, Actual Emotion: fearful\n",
            "03-01-03-02-01-01-09.wav: Cosine Similarity: 0.3733333349227905, Predicted Emotion: angry, Actual Emotion: happy\n",
            "03-01-07-02-02-01-07.wav: Cosine Similarity: 0.41333332657814026, Predicted Emotion: angry, Actual Emotion: disgust\n",
            "03-01-06-02-01-02-01.wav: Cosine Similarity: 0.4933333396911621, Predicted Emotion: angry, Actual Emotion: fearful\n",
            "03-01-02-02-01-02-01.wav: Cosine Similarity: 0.5533333420753479, Predicted Emotion: angry, Actual Emotion: calm\n",
            "03-01-08-02-01-02-18.wav: Cosine Similarity: 0.30666667222976685, Predicted Emotion: angry, Actual Emotion: surprised\n",
            "03-01-05-02-02-01-01.wav: Cosine Similarity: 0.6133333444595337, Predicted Emotion: angry, Actual Emotion: angry\n",
            "03-01-03-01-01-01-18.wav: Cosine Similarity: 0.3733333349227905, Predicted Emotion: angry, Actual Emotion: happy\n",
            "03-01-05-02-01-01-08.wav: Cosine Similarity: 0.6133333444595337, Predicted Emotion: angry, Actual Emotion: angry\n",
            "03-01-08-01-01-01-15.wav: Cosine Similarity: 0.30666667222976685, Predicted Emotion: angry, Actual Emotion: surprised\n",
            "03-01-06-02-02-01-22.wav: Cosine Similarity: 0.4933333396911621, Predicted Emotion: angry, Actual Emotion: fearful\n",
            "03-01-07-02-01-01-16.wav: Cosine Similarity: 0.41333332657814026, Predicted Emotion: angry, Actual Emotion: disgust\n",
            "03-01-06-01-02-01-24.wav: Cosine Similarity: 0.4933333396911621, Predicted Emotion: angry, Actual Emotion: fearful\n",
            "03-01-07-01-01-02-04.wav: Cosine Similarity: 0.41333332657814026, Predicted Emotion: angry, Actual Emotion: disgust\n",
            "03-01-01-01-02-02-09.wav: Cosine Similarity: 0.23999999463558197, Predicted Emotion: angry, Actual Emotion: neutral\n",
            "03-01-06-01-02-02-08.wav: Cosine Similarity: 0.4933333396911621, Predicted Emotion: angry, Actual Emotion: fearful\n",
            "03-01-06-02-02-01-03.wav: Cosine Similarity: 0.4933333396911621, Predicted Emotion: angry, Actual Emotion: fearful\n",
            "03-01-03-02-01-01-18.wav: Cosine Similarity: 0.3733333349227905, Predicted Emotion: angry, Actual Emotion: happy\n",
            "03-01-08-02-02-01-09.wav: Cosine Similarity: 0.30666667222976685, Predicted Emotion: angry, Actual Emotion: surprised\n",
            "03-01-07-02-01-02-17.wav: Cosine Similarity: 0.41333332657814026, Predicted Emotion: angry, Actual Emotion: disgust\n",
            "03-01-01-01-01-02-03.wav: Cosine Similarity: 0.23999999463558197, Predicted Emotion: angry, Actual Emotion: neutral\n",
            "03-01-02-01-02-01-12.wav: Cosine Similarity: 0.5533333420753479, Predicted Emotion: angry, Actual Emotion: calm\n",
            "03-01-07-02-01-02-22.wav: Cosine Similarity: 0.41333332657814026, Predicted Emotion: angry, Actual Emotion: disgust\n",
            "03-01-06-01-01-02-06.wav: Cosine Similarity: 0.4933333396911621, Predicted Emotion: angry, Actual Emotion: fearful\n",
            "03-01-05-02-02-02-11.wav: Cosine Similarity: 0.6133333444595337, Predicted Emotion: angry, Actual Emotion: angry\n",
            "03-01-02-01-01-01-09.wav: Cosine Similarity: 0.5533333420753479, Predicted Emotion: angry, Actual Emotion: calm\n",
            "03-01-07-02-01-01-18.wav: Cosine Similarity: 0.41333332657814026, Predicted Emotion: angry, Actual Emotion: disgust\n",
            "03-01-08-02-01-02-09.wav: Cosine Similarity: 0.30666667222976685, Predicted Emotion: angry, Actual Emotion: surprised\n",
            "03-01-07-01-01-01-18.wav: Cosine Similarity: 0.41333332657814026, Predicted Emotion: angry, Actual Emotion: disgust\n",
            "03-01-08-02-01-01-01.wav: Cosine Similarity: 0.30666667222976685, Predicted Emotion: angry, Actual Emotion: surprised\n",
            "03-01-03-02-01-01-11.wav: Cosine Similarity: 0.3733333349227905, Predicted Emotion: angry, Actual Emotion: happy\n",
            "03-01-05-01-02-01-15.wav: Cosine Similarity: 0.6133333444595337, Predicted Emotion: angry, Actual Emotion: angry\n",
            "03-01-02-02-02-02-23.wav: Cosine Similarity: 0.5533333420753479, Predicted Emotion: angry, Actual Emotion: calm\n",
            "03-01-06-02-01-01-01.wav: Cosine Similarity: 0.4933333396911621, Predicted Emotion: angry, Actual Emotion: fearful\n",
            "03-01-05-01-02-01-11.wav: Cosine Similarity: 0.6133333444595337, Predicted Emotion: angry, Actual Emotion: angry\n",
            "03-01-06-02-01-02-13.wav: Cosine Similarity: 0.4933333396911621, Predicted Emotion: angry, Actual Emotion: fearful\n",
            "03-01-03-01-02-01-23.wav: Cosine Similarity: 0.3733333349227905, Predicted Emotion: angry, Actual Emotion: happy\n",
            "03-01-02-02-02-02-20.wav: Cosine Similarity: 0.5533333420753479, Predicted Emotion: angry, Actual Emotion: calm\n",
            "03-01-08-01-01-02-06.wav: Cosine Similarity: 0.30666667222976685, Predicted Emotion: angry, Actual Emotion: surprised\n",
            "03-01-03-01-01-01-01.wav: Cosine Similarity: 0.3733333349227905, Predicted Emotion: angry, Actual Emotion: happy\n",
            "03-01-05-02-01-02-07.wav: Cosine Similarity: 0.6133333444595337, Predicted Emotion: angry, Actual Emotion: angry\n",
            "03-01-06-02-02-01-15.wav: Cosine Similarity: 0.4933333396911621, Predicted Emotion: angry, Actual Emotion: fearful\n",
            "03-01-06-01-02-02-13.wav: Cosine Similarity: 0.4933333396911621, Predicted Emotion: angry, Actual Emotion: fearful\n",
            "03-01-08-01-01-02-01.wav: Cosine Similarity: 0.30666667222976685, Predicted Emotion: angry, Actual Emotion: surprised\n",
            "03-01-07-02-02-02-24.wav: Cosine Similarity: 0.41333332657814026, Predicted Emotion: angry, Actual Emotion: disgust\n",
            "03-01-03-01-02-02-04.wav: Cosine Similarity: 0.3733333349227905, Predicted Emotion: angry, Actual Emotion: happy\n",
            "03-01-01-01-01-02-22.wav: Cosine Similarity: 0.23999999463558197, Predicted Emotion: angry, Actual Emotion: neutral\n",
            "03-01-08-01-01-01-10.wav: Cosine Similarity: 0.30666667222976685, Predicted Emotion: angry, Actual Emotion: surprised\n",
            "03-01-03-01-01-02-21.wav: Cosine Similarity: 0.3733333349227905, Predicted Emotion: angry, Actual Emotion: happy\n",
            "03-01-06-01-02-02-15.wav: Cosine Similarity: 0.4933333396911621, Predicted Emotion: angry, Actual Emotion: fearful\n",
            "03-01-07-01-01-02-18.wav: Cosine Similarity: 0.41333332657814026, Predicted Emotion: angry, Actual Emotion: disgust\n",
            "03-01-02-02-01-02-22.wav: Cosine Similarity: 0.5533333420753479, Predicted Emotion: angry, Actual Emotion: calm\n",
            "03-01-01-01-02-02-22.wav: Cosine Similarity: 0.23999999463558197, Predicted Emotion: angry, Actual Emotion: neutral\n",
            "03-01-06-02-02-01-13.wav: Cosine Similarity: 0.4933333396911621, Predicted Emotion: angry, Actual Emotion: fearful\n",
            "03-01-03-02-02-02-01.wav: Cosine Similarity: 0.3733333349227905, Predicted Emotion: angry, Actual Emotion: happy\n",
            "03-01-05-02-02-02-18.wav: Cosine Similarity: 0.6133333444595337, Predicted Emotion: angry, Actual Emotion: angry\n",
            "03-01-06-01-02-01-03.wav: Cosine Similarity: 0.4933333396911621, Predicted Emotion: angry, Actual Emotion: fearful\n",
            "03-01-01-01-01-02-17.wav: Cosine Similarity: 0.23999999463558197, Predicted Emotion: angry, Actual Emotion: neutral\n",
            "03-01-05-01-02-01-19.wav: Cosine Similarity: 0.6133333444595337, Predicted Emotion: angry, Actual Emotion: angry\n",
            "03-01-07-01-01-01-15.wav: Cosine Similarity: 0.41333332657814026, Predicted Emotion: angry, Actual Emotion: disgust\n",
            "03-01-08-01-01-01-21.wav: Cosine Similarity: 0.30666667222976685, Predicted Emotion: angry, Actual Emotion: surprised\n",
            "03-01-08-01-02-02-06.wav: Cosine Similarity: 0.30666667222976685, Predicted Emotion: angry, Actual Emotion: surprised\n",
            "03-01-08-02-02-02-20.wav: Cosine Similarity: 0.30666667222976685, Predicted Emotion: angry, Actual Emotion: surprised\n",
            "03-01-05-01-01-02-17.wav: Cosine Similarity: 0.6133333444595337, Predicted Emotion: angry, Actual Emotion: angry\n",
            "03-01-04-01-01-01-20.wav: Cosine Similarity: 0.23999999463558197, Predicted Emotion: angry, Actual Emotion: sad\n",
            "03-01-04-01-02-01-20.wav: Cosine Similarity: 0.23999999463558197, Predicted Emotion: angry, Actual Emotion: sad\n",
            "03-01-04-01-02-02-20.wav: Cosine Similarity: 0.23999999463558197, Predicted Emotion: angry, Actual Emotion: sad\n",
            "03-01-04-01-01-02-20.wav: Cosine Similarity: 0.23999999463558197, Predicted Emotion: angry, Actual Emotion: sad\n",
            "03-01-04-02-01-02-20.wav: Cosine Similarity: 0.23999999463558197, Predicted Emotion: angry, Actual Emotion: sad\n",
            "03-01-04-02-02-01-20.wav: Cosine Similarity: 0.23999999463558197, Predicted Emotion: angry, Actual Emotion: sad\n",
            "03-01-04-02-02-02-20.wav: Cosine Similarity: 0.23999999463558197, Predicted Emotion: angry, Actual Emotion: sad\n",
            "03-01-04-02-01-01-20.wav: Cosine Similarity: 0.23999999463558197, Predicted Emotion: angry, Actual Emotion: sad\n",
            "03-01-04-02-01-02-22.wav: Cosine Similarity: 0.23999999463558197, Predicted Emotion: angry, Actual Emotion: sad\n",
            "03-01-04-01-01-01-22.wav: Cosine Similarity: 0.23999999463558197, Predicted Emotion: angry, Actual Emotion: sad\n",
            "03-01-04-02-02-02-22.wav: Cosine Similarity: 0.23999999463558197, Predicted Emotion: angry, Actual Emotion: sad\n",
            "03-01-04-01-01-02-22.wav: Cosine Similarity: 0.23999999463558197, Predicted Emotion: angry, Actual Emotion: sad\n",
            "03-01-04-01-02-02-22.wav: Cosine Similarity: 0.23999999463558197, Predicted Emotion: angry, Actual Emotion: sad\n",
            "03-01-04-01-02-01-22.wav: Cosine Similarity: 0.23999999463558197, Predicted Emotion: angry, Actual Emotion: sad\n",
            "03-01-04-02-02-01-22.wav: Cosine Similarity: 0.23999999463558197, Predicted Emotion: angry, Actual Emotion: sad\n",
            "03-01-04-02-01-01-22.wav: Cosine Similarity: 0.23999999463558197, Predicted Emotion: angry, Actual Emotion: sad\n",
            "03-01-04-02-01-01-16.wav: Cosine Similarity: 0.23999999463558197, Predicted Emotion: angry, Actual Emotion: sad\n",
            "03-01-04-02-02-01-16.wav: Cosine Similarity: 0.23999999463558197, Predicted Emotion: angry, Actual Emotion: sad\n",
            "03-01-04-01-02-02-16.wav: Cosine Similarity: 0.23999999463558197, Predicted Emotion: angry, Actual Emotion: sad\n",
            "03-01-04-01-01-01-16.wav: Cosine Similarity: 0.23999999463558197, Predicted Emotion: angry, Actual Emotion: sad\n",
            "03-01-04-02-01-02-16.wav: Cosine Similarity: 0.23999999463558197, Predicted Emotion: angry, Actual Emotion: sad\n",
            "03-01-04-01-02-01-16.wav: Cosine Similarity: 0.23999999463558197, Predicted Emotion: angry, Actual Emotion: sad\n",
            "03-01-04-02-02-02-16.wav: Cosine Similarity: 0.23999999463558197, Predicted Emotion: angry, Actual Emotion: sad\n",
            "03-01-04-01-01-02-16.wav: Cosine Similarity: 0.23999999463558197, Predicted Emotion: angry, Actual Emotion: sad\n",
            "03-01-04-02-01-01-18.wav: Cosine Similarity: 0.23999999463558197, Predicted Emotion: angry, Actual Emotion: sad\n",
            "03-01-04-02-02-02-18.wav: Cosine Similarity: 0.23999999463558197, Predicted Emotion: angry, Actual Emotion: sad\n",
            "03-01-04-01-02-01-18.wav: Cosine Similarity: 0.23999999463558197, Predicted Emotion: angry, Actual Emotion: sad\n",
            "03-01-04-02-02-01-18.wav: Cosine Similarity: 0.23999999463558197, Predicted Emotion: angry, Actual Emotion: sad\n",
            "03-01-04-02-01-02-18.wav: Cosine Similarity: 0.23999999463558197, Predicted Emotion: angry, Actual Emotion: sad\n",
            "03-01-04-01-02-02-18.wav: Cosine Similarity: 0.23999999463558197, Predicted Emotion: angry, Actual Emotion: sad\n",
            "03-01-04-01-01-01-18.wav: Cosine Similarity: 0.23999999463558197, Predicted Emotion: angry, Actual Emotion: sad\n",
            "03-01-04-01-01-02-18.wav: Cosine Similarity: 0.23999999463558197, Predicted Emotion: angry, Actual Emotion: sad\n",
            "03-01-04-01-01-01-17.wav: Cosine Similarity: 0.23999999463558197, Predicted Emotion: angry, Actual Emotion: sad\n",
            "03-01-04-01-01-02-17.wav: Cosine Similarity: 0.23999999463558197, Predicted Emotion: angry, Actual Emotion: sad\n",
            "03-01-04-02-01-02-17.wav: Cosine Similarity: 0.23999999463558197, Predicted Emotion: angry, Actual Emotion: sad\n",
            "03-01-04-01-02-01-17.wav: Cosine Similarity: 0.23999999463558197, Predicted Emotion: angry, Actual Emotion: sad\n",
            "03-01-04-02-01-01-17.wav: Cosine Similarity: 0.23999999463558197, Predicted Emotion: angry, Actual Emotion: sad\n",
            "03-01-04-02-02-01-17.wav: Cosine Similarity: 0.23999999463558197, Predicted Emotion: angry, Actual Emotion: sad\n",
            "03-01-04-02-02-02-17.wav: Cosine Similarity: 0.23999999463558197, Predicted Emotion: angry, Actual Emotion: sad\n",
            "03-01-04-01-02-02-17.wav: Cosine Similarity: 0.23999999463558197, Predicted Emotion: angry, Actual Emotion: sad\n",
            "03-01-04-01-02-01-19.wav: Cosine Similarity: 0.23999999463558197, Predicted Emotion: angry, Actual Emotion: sad\n",
            "03-01-04-01-02-02-19.wav: Cosine Similarity: 0.23999999463558197, Predicted Emotion: angry, Actual Emotion: sad\n",
            "03-01-04-02-01-02-19.wav: Cosine Similarity: 0.23999999463558197, Predicted Emotion: angry, Actual Emotion: sad\n",
            "03-01-04-01-01-02-19.wav: Cosine Similarity: 0.23999999463558197, Predicted Emotion: angry, Actual Emotion: sad\n",
            "03-01-04-02-01-01-19.wav: Cosine Similarity: 0.23999999463558197, Predicted Emotion: angry, Actual Emotion: sad\n",
            "03-01-04-01-01-01-19.wav: Cosine Similarity: 0.23999999463558197, Predicted Emotion: angry, Actual Emotion: sad\n",
            "03-01-04-02-02-01-19.wav: Cosine Similarity: 0.23999999463558197, Predicted Emotion: angry, Actual Emotion: sad\n",
            "03-01-04-02-02-02-19.wav: Cosine Similarity: 0.23999999463558197, Predicted Emotion: angry, Actual Emotion: sad\n",
            "03-01-04-02-01-01-23.wav: Cosine Similarity: 0.23999999463558197, Predicted Emotion: angry, Actual Emotion: sad\n",
            "03-01-04-01-02-01-23.wav: Cosine Similarity: 0.23999999463558197, Predicted Emotion: angry, Actual Emotion: sad\n",
            "03-01-04-02-02-01-23.wav: Cosine Similarity: 0.23999999463558197, Predicted Emotion: angry, Actual Emotion: sad\n",
            "03-01-04-02-01-02-23.wav: Cosine Similarity: 0.23999999463558197, Predicted Emotion: angry, Actual Emotion: sad\n",
            "03-01-04-01-01-01-23.wav: Cosine Similarity: 0.23999999463558197, Predicted Emotion: angry, Actual Emotion: sad\n",
            "03-01-04-01-01-02-23.wav: Cosine Similarity: 0.23999999463558197, Predicted Emotion: angry, Actual Emotion: sad\n",
            "03-01-04-01-02-02-23.wav: Cosine Similarity: 0.23999999463558197, Predicted Emotion: angry, Actual Emotion: sad\n",
            "03-01-04-02-02-02-23.wav: Cosine Similarity: 0.23999999463558197, Predicted Emotion: angry, Actual Emotion: sad\n",
            "03-01-04-02-02-01-24.wav: Cosine Similarity: 0.23999999463558197, Predicted Emotion: angry, Actual Emotion: sad\n",
            "03-01-04-01-01-01-24.wav: Cosine Similarity: 0.23999999463558197, Predicted Emotion: angry, Actual Emotion: sad\n",
            "03-01-04-01-02-02-24.wav: Cosine Similarity: 0.23999999463558197, Predicted Emotion: angry, Actual Emotion: sad\n",
            "03-01-04-02-02-02-24.wav: Cosine Similarity: 0.23999999463558197, Predicted Emotion: angry, Actual Emotion: sad\n",
            "03-01-04-02-01-02-24.wav: Cosine Similarity: 0.23999999463558197, Predicted Emotion: angry, Actual Emotion: sad\n",
            "03-01-04-01-01-02-24.wav: Cosine Similarity: 0.23999999463558197, Predicted Emotion: angry, Actual Emotion: sad\n",
            "03-01-04-02-01-01-24.wav: Cosine Similarity: 0.23999999463558197, Predicted Emotion: angry, Actual Emotion: sad\n",
            "03-01-04-01-02-01-24.wav: Cosine Similarity: 0.23999999463558197, Predicted Emotion: angry, Actual Emotion: sad\n",
            "03-01-04-01-02-01-15.wav: Cosine Similarity: 0.23999999463558197, Predicted Emotion: angry, Actual Emotion: sad\n",
            "03-01-04-02-01-01-15.wav: Cosine Similarity: 0.23999999463558197, Predicted Emotion: angry, Actual Emotion: sad\n",
            "03-01-04-01-01-01-15.wav: Cosine Similarity: 0.23999999463558197, Predicted Emotion: angry, Actual Emotion: sad\n",
            "03-01-04-02-02-01-15.wav: Cosine Similarity: 0.23999999463558197, Predicted Emotion: angry, Actual Emotion: sad\n",
            "03-01-04-01-02-02-15.wav: Cosine Similarity: 0.23999999463558197, Predicted Emotion: angry, Actual Emotion: sad\n",
            "03-01-04-01-01-02-15.wav: Cosine Similarity: 0.23999999463558197, Predicted Emotion: angry, Actual Emotion: sad\n",
            "03-01-04-02-01-02-15.wav: Cosine Similarity: 0.23999999463558197, Predicted Emotion: angry, Actual Emotion: sad\n",
            "03-01-04-02-02-02-15.wav: Cosine Similarity: 0.23999999463558197, Predicted Emotion: angry, Actual Emotion: sad\n",
            "03-01-04-01-01-01-21.wav: Cosine Similarity: 0.23999999463558197, Predicted Emotion: angry, Actual Emotion: sad\n",
            "03-01-04-01-02-02-21.wav: Cosine Similarity: 0.23999999463558197, Predicted Emotion: angry, Actual Emotion: sad\n",
            "03-01-04-02-02-01-21.wav: Cosine Similarity: 0.23999999463558197, Predicted Emotion: angry, Actual Emotion: sad\n",
            "03-01-04-02-01-01-21.wav: Cosine Similarity: 0.23999999463558197, Predicted Emotion: angry, Actual Emotion: sad\n",
            "03-01-04-01-01-02-21.wav: Cosine Similarity: 0.23999999463558197, Predicted Emotion: angry, Actual Emotion: sad\n",
            "03-01-04-02-02-02-21.wav: Cosine Similarity: 0.23999999463558197, Predicted Emotion: angry, Actual Emotion: sad\n",
            "03-01-04-01-02-01-21.wav: Cosine Similarity: 0.23999999463558197, Predicted Emotion: angry, Actual Emotion: sad\n",
            "03-01-04-02-01-02-21.wav: Cosine Similarity: 0.23999999463558197, Predicted Emotion: angry, Actual Emotion: sad\n",
            "03-01-04-01-02-01-06.wav: Cosine Similarity: 0.23999999463558197, Predicted Emotion: angry, Actual Emotion: sad\n",
            "03-01-04-01-01-01-06.wav: Cosine Similarity: 0.23999999463558197, Predicted Emotion: angry, Actual Emotion: sad\n",
            "03-01-04-02-01-01-06.wav: Cosine Similarity: 0.23999999463558197, Predicted Emotion: angry, Actual Emotion: sad\n",
            "03-01-04-01-02-02-06.wav: Cosine Similarity: 0.23999999463558197, Predicted Emotion: angry, Actual Emotion: sad\n",
            "03-01-04-02-02-01-06.wav: Cosine Similarity: 0.23999999463558197, Predicted Emotion: angry, Actual Emotion: sad\n",
            "03-01-04-02-01-02-06.wav: Cosine Similarity: 0.23999999463558197, Predicted Emotion: angry, Actual Emotion: sad\n",
            "03-01-04-01-01-02-06.wav: Cosine Similarity: 0.23999999463558197, Predicted Emotion: angry, Actual Emotion: sad\n",
            "03-01-04-02-02-02-06.wav: Cosine Similarity: 0.23999999463558197, Predicted Emotion: angry, Actual Emotion: sad\n",
            "03-01-04-01-01-01-08.wav: Cosine Similarity: 0.23999999463558197, Predicted Emotion: angry, Actual Emotion: sad\n",
            "03-01-04-01-02-01-08.wav: Cosine Similarity: 0.23999999463558197, Predicted Emotion: angry, Actual Emotion: sad\n",
            "03-01-04-01-01-02-08.wav: Cosine Similarity: 0.23999999463558197, Predicted Emotion: angry, Actual Emotion: sad\n",
            "03-01-04-01-02-02-08.wav: Cosine Similarity: 0.23999999463558197, Predicted Emotion: angry, Actual Emotion: sad\n",
            "03-01-04-02-02-02-08.wav: Cosine Similarity: 0.23999999463558197, Predicted Emotion: angry, Actual Emotion: sad\n",
            "03-01-04-02-02-01-08.wav: Cosine Similarity: 0.23999999463558197, Predicted Emotion: angry, Actual Emotion: sad\n",
            "03-01-04-02-01-02-08.wav: Cosine Similarity: 0.23999999463558197, Predicted Emotion: angry, Actual Emotion: sad\n",
            "03-01-04-02-01-01-08.wav: Cosine Similarity: 0.23999999463558197, Predicted Emotion: angry, Actual Emotion: sad\n",
            "03-01-04-02-01-01-05.wav: Cosine Similarity: 0.23999999463558197, Predicted Emotion: angry, Actual Emotion: sad\n",
            "03-01-04-01-02-02-05.wav: Cosine Similarity: 0.23999999463558197, Predicted Emotion: angry, Actual Emotion: sad\n",
            "03-01-04-01-01-02-05.wav: Cosine Similarity: 0.23999999463558197, Predicted Emotion: angry, Actual Emotion: sad\n",
            "03-01-04-01-01-01-05.wav: Cosine Similarity: 0.23999999463558197, Predicted Emotion: angry, Actual Emotion: sad\n",
            "03-01-04-02-02-02-05.wav: Cosine Similarity: 0.23999999463558197, Predicted Emotion: angry, Actual Emotion: sad\n",
            "03-01-04-02-01-02-05.wav: Cosine Similarity: 0.23999999463558197, Predicted Emotion: angry, Actual Emotion: sad\n",
            "03-01-04-02-02-01-05.wav: Cosine Similarity: 0.23999999463558197, Predicted Emotion: angry, Actual Emotion: sad\n",
            "03-01-04-01-02-01-05.wav: Cosine Similarity: 0.23999999463558197, Predicted Emotion: angry, Actual Emotion: sad\n",
            "03-01-04-01-01-01-11.wav: Cosine Similarity: 0.23999999463558197, Predicted Emotion: angry, Actual Emotion: sad\n",
            "03-01-04-01-02-02-11.wav: Cosine Similarity: 0.23999999463558197, Predicted Emotion: angry, Actual Emotion: sad\n",
            "03-01-04-02-01-01-11.wav: Cosine Similarity: 0.23999999463558197, Predicted Emotion: angry, Actual Emotion: sad\n",
            "03-01-04-01-01-02-11.wav: Cosine Similarity: 0.23999999463558197, Predicted Emotion: angry, Actual Emotion: sad\n",
            "03-01-04-01-02-01-11.wav: Cosine Similarity: 0.23999999463558197, Predicted Emotion: angry, Actual Emotion: sad\n",
            "03-01-04-02-01-02-11.wav: Cosine Similarity: 0.23999999463558197, Predicted Emotion: angry, Actual Emotion: sad\n",
            "03-01-04-02-02-01-11.wav: Cosine Similarity: 0.23999999463558197, Predicted Emotion: angry, Actual Emotion: sad\n",
            "03-01-04-02-02-02-11.wav: Cosine Similarity: 0.23999999463558197, Predicted Emotion: angry, Actual Emotion: sad\n",
            "03-01-04-01-01-01-09.wav: Cosine Similarity: 0.23999999463558197, Predicted Emotion: angry, Actual Emotion: sad\n",
            "03-01-04-02-01-01-09.wav: Cosine Similarity: 0.23999999463558197, Predicted Emotion: angry, Actual Emotion: sad\n",
            "03-01-04-01-02-02-09.wav: Cosine Similarity: 0.23999999463558197, Predicted Emotion: angry, Actual Emotion: sad\n",
            "03-01-04-01-02-01-09.wav: Cosine Similarity: 0.23999999463558197, Predicted Emotion: angry, Actual Emotion: sad\n",
            "03-01-04-02-01-02-09.wav: Cosine Similarity: 0.23999999463558197, Predicted Emotion: angry, Actual Emotion: sad\n",
            "03-01-04-01-01-02-09.wav: Cosine Similarity: 0.23999999463558197, Predicted Emotion: angry, Actual Emotion: sad\n",
            "03-01-04-02-02-01-09.wav: Cosine Similarity: 0.23999999463558197, Predicted Emotion: angry, Actual Emotion: sad\n",
            "03-01-04-02-02-02-09.wav: Cosine Similarity: 0.23999999463558197, Predicted Emotion: angry, Actual Emotion: sad\n",
            "03-01-04-01-02-01-14.wav: Cosine Similarity: 0.23999999463558197, Predicted Emotion: angry, Actual Emotion: sad\n",
            "03-01-04-01-01-01-14.wav: Cosine Similarity: 0.23999999463558197, Predicted Emotion: angry, Actual Emotion: sad\n",
            "03-01-04-01-02-02-14.wav: Cosine Similarity: 0.23999999463558197, Predicted Emotion: angry, Actual Emotion: sad\n",
            "03-01-04-01-01-02-14.wav: Cosine Similarity: 0.23999999463558197, Predicted Emotion: angry, Actual Emotion: sad\n",
            "03-01-04-02-02-02-14.wav: Cosine Similarity: 0.23999999463558197, Predicted Emotion: angry, Actual Emotion: sad\n",
            "03-01-04-02-01-02-14.wav: Cosine Similarity: 0.23999999463558197, Predicted Emotion: angry, Actual Emotion: sad\n",
            "03-01-04-02-02-01-14.wav: Cosine Similarity: 0.23999999463558197, Predicted Emotion: angry, Actual Emotion: sad\n",
            "03-01-04-02-01-01-14.wav: Cosine Similarity: 0.23999999463558197, Predicted Emotion: angry, Actual Emotion: sad\n",
            "03-01-04-02-02-01-13.wav: Cosine Similarity: 0.23999999463558197, Predicted Emotion: angry, Actual Emotion: sad\n",
            "03-01-04-01-01-01-13.wav: Cosine Similarity: 0.23999999463558197, Predicted Emotion: angry, Actual Emotion: sad\n",
            "03-01-04-01-02-01-13.wav: Cosine Similarity: 0.23999999463558197, Predicted Emotion: angry, Actual Emotion: sad\n",
            "03-01-04-02-01-01-13.wav: Cosine Similarity: 0.23999999463558197, Predicted Emotion: angry, Actual Emotion: sad\n",
            "03-01-04-02-01-02-13.wav: Cosine Similarity: 0.23999999463558197, Predicted Emotion: angry, Actual Emotion: sad\n",
            "03-01-04-02-02-02-13.wav: Cosine Similarity: 0.23999999463558197, Predicted Emotion: angry, Actual Emotion: sad\n",
            "03-01-04-01-01-02-13.wav: Cosine Similarity: 0.23999999463558197, Predicted Emotion: angry, Actual Emotion: sad\n",
            "03-01-04-01-02-02-13.wav: Cosine Similarity: 0.23999999463558197, Predicted Emotion: angry, Actual Emotion: sad\n",
            "03-01-04-01-01-01-07.wav: Cosine Similarity: 0.23999999463558197, Predicted Emotion: angry, Actual Emotion: sad\n",
            "03-01-04-02-02-01-07.wav: Cosine Similarity: 0.23999999463558197, Predicted Emotion: angry, Actual Emotion: sad\n",
            "03-01-04-02-02-02-07.wav: Cosine Similarity: 0.23999999463558197, Predicted Emotion: angry, Actual Emotion: sad\n",
            "03-01-04-01-01-02-07.wav: Cosine Similarity: 0.23999999463558197, Predicted Emotion: angry, Actual Emotion: sad\n",
            "03-01-04-02-01-01-07.wav: Cosine Similarity: 0.23999999463558197, Predicted Emotion: angry, Actual Emotion: sad\n",
            "03-01-04-02-01-02-07.wav: Cosine Similarity: 0.23999999463558197, Predicted Emotion: angry, Actual Emotion: sad\n",
            "03-01-04-01-02-01-07.wav: Cosine Similarity: 0.23999999463558197, Predicted Emotion: angry, Actual Emotion: sad\n",
            "03-01-04-01-02-02-07.wav: Cosine Similarity: 0.23999999463558197, Predicted Emotion: angry, Actual Emotion: sad\n",
            "03-01-04-01-01-01-12.wav: Cosine Similarity: 0.23999999463558197, Predicted Emotion: angry, Actual Emotion: sad\n",
            "03-01-04-02-02-02-12.wav: Cosine Similarity: 0.23999999463558197, Predicted Emotion: angry, Actual Emotion: sad\n",
            "03-01-04-01-02-02-12.wav: Cosine Similarity: 0.23999999463558197, Predicted Emotion: angry, Actual Emotion: sad\n",
            "03-01-04-02-02-01-12.wav: Cosine Similarity: 0.23999999463558197, Predicted Emotion: angry, Actual Emotion: sad\n",
            "03-01-04-02-01-02-12.wav: Cosine Similarity: 0.23999999463558197, Predicted Emotion: angry, Actual Emotion: sad\n",
            "03-01-04-01-02-01-12.wav: Cosine Similarity: 0.23999999463558197, Predicted Emotion: angry, Actual Emotion: sad\n",
            "03-01-04-01-01-02-12.wav: Cosine Similarity: 0.23999999463558197, Predicted Emotion: angry, Actual Emotion: sad\n",
            "03-01-04-02-01-01-12.wav: Cosine Similarity: 0.23999999463558197, Predicted Emotion: angry, Actual Emotion: sad\n",
            "03-01-04-01-02-02-10.wav: Cosine Similarity: 0.23999999463558197, Predicted Emotion: angry, Actual Emotion: sad\n",
            "03-01-04-02-02-01-10.wav: Cosine Similarity: 0.23999999463558197, Predicted Emotion: angry, Actual Emotion: sad\n",
            "03-01-04-01-02-01-10.wav: Cosine Similarity: 0.23999999463558197, Predicted Emotion: angry, Actual Emotion: sad\n",
            "03-01-04-02-01-01-10.wav: Cosine Similarity: 0.23999999463558197, Predicted Emotion: angry, Actual Emotion: sad\n",
            "03-01-04-02-01-02-10.wav: Cosine Similarity: 0.23999999463558197, Predicted Emotion: angry, Actual Emotion: sad\n",
            "03-01-04-02-02-02-10.wav: Cosine Similarity: 0.23999999463558197, Predicted Emotion: angry, Actual Emotion: sad\n",
            "03-01-04-01-01-01-10.wav: Cosine Similarity: 0.23999999463558197, Predicted Emotion: angry, Actual Emotion: sad\n",
            "03-01-04-01-01-02-10.wav: Cosine Similarity: 0.23999999463558197, Predicted Emotion: angry, Actual Emotion: sad\n",
            "03-01-04-01-01-02-02.wav: Cosine Similarity: 0.23999999463558197, Predicted Emotion: angry, Actual Emotion: sad\n",
            "03-01-04-02-01-02-02.wav: Cosine Similarity: 0.23999999463558197, Predicted Emotion: angry, Actual Emotion: sad\n",
            "03-01-04-02-02-02-02.wav: Cosine Similarity: 0.23999999463558197, Predicted Emotion: angry, Actual Emotion: sad\n",
            "03-01-04-01-02-02-02.wav: Cosine Similarity: 0.23999999463558197, Predicted Emotion: angry, Actual Emotion: sad\n",
            "03-01-04-01-02-01-02.wav: Cosine Similarity: 0.23999999463558197, Predicted Emotion: angry, Actual Emotion: sad\n",
            "03-01-04-02-01-01-02.wav: Cosine Similarity: 0.23999999463558197, Predicted Emotion: angry, Actual Emotion: sad\n",
            "03-01-04-01-01-01-02.wav: Cosine Similarity: 0.23999999463558197, Predicted Emotion: angry, Actual Emotion: sad\n",
            "03-01-04-02-02-01-02.wav: Cosine Similarity: 0.23999999463558197, Predicted Emotion: angry, Actual Emotion: sad\n",
            "03-01-04-01-01-01-03.wav: Cosine Similarity: 0.23999999463558197, Predicted Emotion: angry, Actual Emotion: sad\n",
            "03-01-04-01-02-02-03.wav: Cosine Similarity: 0.23999999463558197, Predicted Emotion: angry, Actual Emotion: sad\n",
            "03-01-04-01-02-01-03.wav: Cosine Similarity: 0.23999999463558197, Predicted Emotion: angry, Actual Emotion: sad\n",
            "03-01-04-01-01-02-03.wav: Cosine Similarity: 0.23999999463558197, Predicted Emotion: angry, Actual Emotion: sad\n",
            "03-01-04-02-01-02-03.wav: Cosine Similarity: 0.23999999463558197, Predicted Emotion: angry, Actual Emotion: sad\n",
            "03-01-04-02-02-01-03.wav: Cosine Similarity: 0.23999999463558197, Predicted Emotion: angry, Actual Emotion: sad\n",
            "03-01-04-02-02-02-03.wav: Cosine Similarity: 0.23999999463558197, Predicted Emotion: angry, Actual Emotion: sad\n",
            "03-01-04-02-01-01-03.wav: Cosine Similarity: 0.23999999463558197, Predicted Emotion: angry, Actual Emotion: sad\n",
            "03-01-04-01-01-01-04.wav: Cosine Similarity: 0.23999999463558197, Predicted Emotion: angry, Actual Emotion: sad\n",
            "03-01-04-01-02-02-04.wav: Cosine Similarity: 0.23999999463558197, Predicted Emotion: angry, Actual Emotion: sad\n",
            "03-01-04-01-02-01-04.wav: Cosine Similarity: 0.23999999463558197, Predicted Emotion: angry, Actual Emotion: sad\n",
            "03-01-04-02-02-01-04.wav: Cosine Similarity: 0.23999999463558197, Predicted Emotion: angry, Actual Emotion: sad\n",
            "03-01-04-01-01-02-04.wav: Cosine Similarity: 0.23999999463558197, Predicted Emotion: angry, Actual Emotion: sad\n",
            "03-01-04-02-01-02-04.wav: Cosine Similarity: 0.23999999463558197, Predicted Emotion: angry, Actual Emotion: sad\n",
            "03-01-04-02-01-01-04.wav: Cosine Similarity: 0.23999999463558197, Predicted Emotion: angry, Actual Emotion: sad\n",
            "03-01-04-02-02-02-04.wav: Cosine Similarity: 0.23999999463558197, Predicted Emotion: angry, Actual Emotion: sad\n",
            "03-01-04-01-01-01-01.wav: Cosine Similarity: 0.23999999463558197, Predicted Emotion: angry, Actual Emotion: sad\n",
            "03-01-04-02-02-02-01.wav: Cosine Similarity: 0.23999999463558197, Predicted Emotion: angry, Actual Emotion: sad\n",
            "03-01-04-01-02-02-01.wav: Cosine Similarity: 0.23999999463558197, Predicted Emotion: angry, Actual Emotion: sad\n",
            "03-01-04-02-01-01-01.wav: Cosine Similarity: 0.23999999463558197, Predicted Emotion: angry, Actual Emotion: sad\n",
            "03-01-04-01-02-01-01.wav: Cosine Similarity: 0.23999999463558197, Predicted Emotion: angry, Actual Emotion: sad\n",
            "03-01-04-02-02-01-01.wav: Cosine Similarity: 0.23999999463558197, Predicted Emotion: angry, Actual Emotion: sad\n",
            "03-01-04-02-01-02-01.wav: Cosine Similarity: 0.23999999463558197, Predicted Emotion: angry, Actual Emotion: sad\n",
            "03-01-04-01-01-02-01.wav: Cosine Similarity: 0.23999999463558197, Predicted Emotion: angry, Actual Emotion: sad\n"
          ]
        }
      ]
    },
    {
      "cell_type": "code",
      "execution_count": 132,
      "metadata": {
        "id": "64zcRYBnMDgz",
        "colab": {
          "base_uri": "https://localhost:8080/"
        },
        "outputId": "cb8fe668-f655-4148-d272-b0bdce0710ad"
      },
      "outputs": [
        {
          "output_type": "stream",
          "name": "stdout",
          "text": [
            "tensor(-4.7899e-06)\n"
          ]
        }
      ],
      "source": [
        "input1 = torch.randn(99999999)\n",
        "input2 = torch.randn(99999999)\n",
        "cos = nn.CosineSimilarity(dim=0, eps=1e-6)\n",
        "output = cos(input1, input2)\n",
        "print(output)"
      ]
    }
  ],
  "metadata": {
    "colab": {
      "provenance": [],
      "mount_file_id": "1HRjSWY4Fn7YN81YdrtYP5kaNk6gtnr6K",
      "authorship_tag": "ABX9TyOo+rCxKLanmz3kq0+VM1br"
    },
    "kernelspec": {
      "display_name": "Python 3",
      "name": "python3"
    },
    "language_info": {
      "name": "python"
    }
  },
  "nbformat": 4,
  "nbformat_minor": 0
}